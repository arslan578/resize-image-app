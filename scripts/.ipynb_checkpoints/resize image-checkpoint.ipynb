{
 "cells": [
  {
   "cell_type": "code",
   "execution_count": 34,
   "metadata": {},
   "outputs": [],
   "source": [
    "from PIL import ImageFont, ImageDraw, Image\n",
    "import uuid\n",
    "import cv2\n",
    "import imageio"
   ]
  },
  {
   "cell_type": "markdown",
   "metadata": {},
   "source": [
    "# Convet JPG TO PNG AND vise versa "
   ]
  },
  {
   "cell_type": "code",
   "execution_count": 35,
   "metadata": {},
   "outputs": [],
   "source": [
    "unit = 'percentage'\n",
    "width = 100\n",
    "height = 100\n",
    "quality = 40\n",
    "file_final_format = 'png'\n",
    "\n",
    "# file_name = '{new_file_name}.{file_format}'.format(new_file_name=str(uuid.uuid4()).replace('-', '_'), file_format=file_final_format)\n",
    "new_file_name = 'test.' + file_final_format\n",
    "if unit == 'percentage':\n",
    "    width = int(width * 6.25)\n",
    "    height = int (height * 6.25)\n",
    "\n",
    "file_path = 'trans.png'\n",
    "image = Image.open(file_path)\n",
    "resize_image = image.resize((width, height), Image.ANTIALIAS)\n",
    "save_resize_image = new_file_name\n",
    "try:\n",
    "    resize_image.save(save_resize_image, quality=quality)\n",
    "except OSError:\n",
    "    \n",
    "    resize_image = image.convert('RGB')\n",
    "    resize_image.save(save_resize_image, quality=quality)\n",
    "\n",
    "\n"
   ]
  },
  {
   "cell_type": "markdown",
   "metadata": {},
   "source": [
    "# CHANGE PNG background"
   ]
  },
  {
   "cell_type": "code",
   "execution_count": 36,
   "metadata": {},
   "outputs": [],
   "source": [
    "def combine_image(source_image, destination_image, file_name):\n",
    "    im1 = Image.open(source_image)\n",
    "    im2 = Image.open(destination_image).convert(\"RGBA\")\n",
    "    x, y = im2.size\n",
    "    im1.paste(im2, (0, 0), im2)\n",
    "    im1.save(file_name, quality=100)\n",
    "    return file_name"
   ]
  },
  {
   "cell_type": "code",
   "execution_count": 37,
   "metadata": {},
   "outputs": [
    {
     "data": {
      "text/plain": [
       "'test.png'"
      ]
     },
     "execution_count": 37,
     "metadata": {},
     "output_type": "execute_result"
    }
   ],
   "source": [
    "background_image = 'custom_white_image.jpg'\n",
    "save_background_image = 'test_custom_white_image.jpg'\n",
    "image = cv2.imread(new_file_name)\n",
    "image_width, image_height, dimension = image.shape\n",
    "\n",
    "white_image = cv2.imread(background_image, cv2.IMREAD_UNCHANGED)\n",
    "dim = (image_height, image_width)\n",
    "resized = cv2.resize(white_image, dim, interpolation=cv2.INTER_AREA)\n",
    "cv2.imwrite(save_background_image, resized)\n",
    "combine_image(save_background_image, new_file_name,new_file_name)"
   ]
  },
  {
   "cell_type": "code",
   "execution_count": 38,
   "metadata": {},
   "outputs": [
    {
     "name": "stdout",
     "output_type": "stream",
     "text": [
      "(625, 625)\n",
      "(625, 625)\n"
     ]
    }
   ],
   "source": [
    "print(Image.open(save_background_image).size)\n",
    "print(Image.open(new_file_name).size)"
   ]
  },
  {
   "cell_type": "markdown",
   "metadata": {},
   "source": [
    "# JPG convert TO Gif"
   ]
  },
  {
   "cell_type": "code",
   "execution_count": 39,
   "metadata": {},
   "outputs": [],
   "source": [
    "images = []\n",
    "images.append(imageio.imread(new_file_name))\n",
    "images.append(imageio.imread(background_image))\n",
    "kargs = { 'duration': 5 }\n",
    "imageio.mimsave('movie.gif', images)"
   ]
  },
  {
   "cell_type": "code",
   "execution_count": 40,
   "metadata": {},
   "outputs": [],
   "source": [
    "import sys\n",
    "\n",
    "def processImage(infile):\n",
    "    try:\n",
    "        im = Image.open(infile)\n",
    "    except IOError:\n",
    "        print(\"Cant load\", infile)\n",
    "        sys.exit(1)\n",
    "    i = 0\n",
    "    mypalette = im.getpalette()\n",
    "\n",
    "    try:\n",
    "        while 1:\n",
    "            im.putpalette(mypalette)\n",
    "            new_im = Image.new(\"RGBA\", im.size)\n",
    "            new_im.paste(im)\n",
    "            try:\n",
    "                new_im.save('foo'+str(i)+'.jpg')\n",
    "            except OSError:\n",
    "                new_im = new_im.convert('RGB')\n",
    "                new_im.save('foo'+str(i)+'.jpg')\n",
    "\n",
    "            i += 1\n",
    "            im.seek(im.tell() + 1)\n",
    "\n",
    "    except EOFError:\n",
    "        pass # end of sequence\n",
    "\n",
    "processImage('movie.gif')"
   ]
  },
  {
   "cell_type": "code",
   "execution_count": null,
   "metadata": {},
   "outputs": [],
   "source": []
  }
 ],
 "metadata": {
  "kernelspec": {
   "display_name": "Python 3",
   "language": "python",
   "name": "python3"
  },
  "language_info": {
   "codemirror_mode": {
    "name": "ipython",
    "version": 3
   },
   "file_extension": ".py",
   "mimetype": "text/x-python",
   "name": "python",
   "nbconvert_exporter": "python",
   "pygments_lexer": "ipython3",
   "version": "3.7.0"
  }
 },
 "nbformat": 4,
 "nbformat_minor": 4
}
